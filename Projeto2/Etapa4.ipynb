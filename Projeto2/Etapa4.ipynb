{
  "nbformat": 4,
  "nbformat_minor": 0,
  "metadata": {
    "colab": {
      "provenance": []
    },
    "kernelspec": {
      "name": "python3",
      "display_name": "Python 3"
    },
    "language_info": {
      "name": "python"
    }
  },
  "cells": [
    {
      "cell_type": "markdown",
      "source": [
        "**Item requerido:** Utilizando plataforma embarcada:\n",
        "- https://studio.edgeimpulse.com/\n",
        "- Device: Celular\n",
        "- Avaliar modelo gerado.\n",
        "- Gerar Notebook Python com teste do modelo."
      ],
      "metadata": {
        "id": "5nycDL997Ajt"
      }
    },
    {
      "cell_type": "markdown",
      "source": [
        "## Projeto desenvolvido no Edge Impulse\n",
        "\n",
        "Link de acesso do projeto: [rwri/doencaMIlho](https://studio.edgeimpulse.com/public/410033/live)"
      ],
      "metadata": {
        "id": "rZyam8QNhqeu"
      }
    },
    {
      "cell_type": "markdown",
      "source": [
        "## Bibliotecas\n"
      ],
      "metadata": {
        "id": "9lxCKxhD7Ipz"
      }
    },
    {
      "cell_type": "code",
      "execution_count": null,
      "metadata": {
        "colab": {
          "base_uri": "https://localhost:8080/"
        },
        "id": "cP979aL16zrV",
        "outputId": "a1e06563-b760-431d-e3fe-547322296bdc"
      },
      "outputs": [
        {
          "output_type": "stream",
          "name": "stdout",
          "text": [
            "Requirement already satisfied: tensorflow in /usr/local/lib/python3.10/dist-packages (2.15.0)\n",
            "Requirement already satisfied: opencv-python in /usr/local/lib/python3.10/dist-packages (4.8.0.76)\n",
            "Requirement already satisfied: absl-py>=1.0.0 in /usr/local/lib/python3.10/dist-packages (from tensorflow) (1.4.0)\n",
            "Requirement already satisfied: astunparse>=1.6.0 in /usr/local/lib/python3.10/dist-packages (from tensorflow) (1.6.3)\n",
            "Requirement already satisfied: flatbuffers>=23.5.26 in /usr/local/lib/python3.10/dist-packages (from tensorflow) (24.3.25)\n",
            "Requirement already satisfied: gast!=0.5.0,!=0.5.1,!=0.5.2,>=0.2.1 in /usr/local/lib/python3.10/dist-packages (from tensorflow) (0.5.4)\n",
            "Requirement already satisfied: google-pasta>=0.1.1 in /usr/local/lib/python3.10/dist-packages (from tensorflow) (0.2.0)\n",
            "Requirement already satisfied: h5py>=2.9.0 in /usr/local/lib/python3.10/dist-packages (from tensorflow) (3.9.0)\n",
            "Requirement already satisfied: libclang>=13.0.0 in /usr/local/lib/python3.10/dist-packages (from tensorflow) (18.1.1)\n",
            "Requirement already satisfied: ml-dtypes~=0.2.0 in /usr/local/lib/python3.10/dist-packages (from tensorflow) (0.2.0)\n",
            "Requirement already satisfied: numpy<2.0.0,>=1.23.5 in /usr/local/lib/python3.10/dist-packages (from tensorflow) (1.25.2)\n",
            "Requirement already satisfied: opt-einsum>=2.3.2 in /usr/local/lib/python3.10/dist-packages (from tensorflow) (3.3.0)\n",
            "Requirement already satisfied: packaging in /usr/local/lib/python3.10/dist-packages (from tensorflow) (24.0)\n",
            "Requirement already satisfied: protobuf!=4.21.0,!=4.21.1,!=4.21.2,!=4.21.3,!=4.21.4,!=4.21.5,<5.0.0dev,>=3.20.3 in /usr/local/lib/python3.10/dist-packages (from tensorflow) (3.20.3)\n",
            "Requirement already satisfied: setuptools in /usr/local/lib/python3.10/dist-packages (from tensorflow) (67.7.2)\n",
            "Requirement already satisfied: six>=1.12.0 in /usr/local/lib/python3.10/dist-packages (from tensorflow) (1.16.0)\n",
            "Requirement already satisfied: termcolor>=1.1.0 in /usr/local/lib/python3.10/dist-packages (from tensorflow) (2.4.0)\n",
            "Requirement already satisfied: typing-extensions>=3.6.6 in /usr/local/lib/python3.10/dist-packages (from tensorflow) (4.11.0)\n",
            "Requirement already satisfied: wrapt<1.15,>=1.11.0 in /usr/local/lib/python3.10/dist-packages (from tensorflow) (1.14.1)\n",
            "Requirement already satisfied: tensorflow-io-gcs-filesystem>=0.23.1 in /usr/local/lib/python3.10/dist-packages (from tensorflow) (0.37.0)\n",
            "Requirement already satisfied: grpcio<2.0,>=1.24.3 in /usr/local/lib/python3.10/dist-packages (from tensorflow) (1.64.0)\n",
            "Requirement already satisfied: tensorboard<2.16,>=2.15 in /usr/local/lib/python3.10/dist-packages (from tensorflow) (2.15.2)\n",
            "Requirement already satisfied: tensorflow-estimator<2.16,>=2.15.0 in /usr/local/lib/python3.10/dist-packages (from tensorflow) (2.15.0)\n",
            "Requirement already satisfied: keras<2.16,>=2.15.0 in /usr/local/lib/python3.10/dist-packages (from tensorflow) (2.15.0)\n",
            "Requirement already satisfied: wheel<1.0,>=0.23.0 in /usr/local/lib/python3.10/dist-packages (from astunparse>=1.6.0->tensorflow) (0.43.0)\n",
            "Requirement already satisfied: google-auth<3,>=1.6.3 in /usr/local/lib/python3.10/dist-packages (from tensorboard<2.16,>=2.15->tensorflow) (2.27.0)\n",
            "Requirement already satisfied: google-auth-oauthlib<2,>=0.5 in /usr/local/lib/python3.10/dist-packages (from tensorboard<2.16,>=2.15->tensorflow) (1.2.0)\n",
            "Requirement already satisfied: markdown>=2.6.8 in /usr/local/lib/python3.10/dist-packages (from tensorboard<2.16,>=2.15->tensorflow) (3.6)\n",
            "Requirement already satisfied: requests<3,>=2.21.0 in /usr/local/lib/python3.10/dist-packages (from tensorboard<2.16,>=2.15->tensorflow) (2.31.0)\n",
            "Requirement already satisfied: tensorboard-data-server<0.8.0,>=0.7.0 in /usr/local/lib/python3.10/dist-packages (from tensorboard<2.16,>=2.15->tensorflow) (0.7.2)\n",
            "Requirement already satisfied: werkzeug>=1.0.1 in /usr/local/lib/python3.10/dist-packages (from tensorboard<2.16,>=2.15->tensorflow) (3.0.3)\n",
            "Requirement already satisfied: cachetools<6.0,>=2.0.0 in /usr/local/lib/python3.10/dist-packages (from google-auth<3,>=1.6.3->tensorboard<2.16,>=2.15->tensorflow) (5.3.3)\n",
            "Requirement already satisfied: pyasn1-modules>=0.2.1 in /usr/local/lib/python3.10/dist-packages (from google-auth<3,>=1.6.3->tensorboard<2.16,>=2.15->tensorflow) (0.4.0)\n",
            "Requirement already satisfied: rsa<5,>=3.1.4 in /usr/local/lib/python3.10/dist-packages (from google-auth<3,>=1.6.3->tensorboard<2.16,>=2.15->tensorflow) (4.9)\n",
            "Requirement already satisfied: requests-oauthlib>=0.7.0 in /usr/local/lib/python3.10/dist-packages (from google-auth-oauthlib<2,>=0.5->tensorboard<2.16,>=2.15->tensorflow) (1.3.1)\n",
            "Requirement already satisfied: charset-normalizer<4,>=2 in /usr/local/lib/python3.10/dist-packages (from requests<3,>=2.21.0->tensorboard<2.16,>=2.15->tensorflow) (3.3.2)\n",
            "Requirement already satisfied: idna<4,>=2.5 in /usr/local/lib/python3.10/dist-packages (from requests<3,>=2.21.0->tensorboard<2.16,>=2.15->tensorflow) (3.7)\n",
            "Requirement already satisfied: urllib3<3,>=1.21.1 in /usr/local/lib/python3.10/dist-packages (from requests<3,>=2.21.0->tensorboard<2.16,>=2.15->tensorflow) (2.0.7)\n",
            "Requirement already satisfied: certifi>=2017.4.17 in /usr/local/lib/python3.10/dist-packages (from requests<3,>=2.21.0->tensorboard<2.16,>=2.15->tensorflow) (2024.2.2)\n",
            "Requirement already satisfied: MarkupSafe>=2.1.1 in /usr/local/lib/python3.10/dist-packages (from werkzeug>=1.0.1->tensorboard<2.16,>=2.15->tensorflow) (2.1.5)\n",
            "Requirement already satisfied: pyasn1<0.7.0,>=0.4.6 in /usr/local/lib/python3.10/dist-packages (from pyasn1-modules>=0.2.1->google-auth<3,>=1.6.3->tensorboard<2.16,>=2.15->tensorflow) (0.6.0)\n",
            "Requirement already satisfied: oauthlib>=3.0.0 in /usr/local/lib/python3.10/dist-packages (from requests-oauthlib>=0.7.0->google-auth-oauthlib<2,>=0.5->tensorboard<2.16,>=2.15->tensorflow) (3.2.2)\n"
          ]
        }
      ],
      "source": [
        "# Instalar bibliotecas necessárias\n",
        "!pip install tensorflow opencv-python\n",
        "\n",
        "# Importar bibliotecas necessárias\n",
        "import tensorflow as tf\n",
        "import numpy as np\n",
        "import cv2\n",
        "import matplotlib.pyplot as plt"
      ]
    },
    {
      "cell_type": "markdown",
      "source": [
        "## Caregando o modelo"
      ],
      "metadata": {
        "id": "gJaqOvPe7PMN"
      }
    },
    {
      "cell_type": "code",
      "source": [
        "# Carregar o modelo TensorFlow Lite\n",
        "interpreter = tf.lite.Interpreter(model_path=\"modeloDoencaMilhoRGB.tflite\")\n",
        "interpreter.allocate_tensors()\n",
        "\n",
        "# Obter detalhes da entrada e saída do modelo\n",
        "input_details = interpreter.get_input_details()\n",
        "output_details = interpreter.get_output_details()"
      ],
      "metadata": {
        "id": "SHSu4IU07TNN"
      },
      "execution_count": null,
      "outputs": []
    },
    {
      "cell_type": "markdown",
      "source": [
        "## Baixando base de dados"
      ],
      "metadata": {
        "id": "AtpG8ZyLn6iO"
      }
    },
    {
      "cell_type": "code",
      "source": [
        "!pip install -q kaggle\n",
        "from google.colab import files\n",
        "files.upload()\n",
        "!mkdir ~/.kaggle\n",
        "!cp kaggle.json ~/.kaggle/\n",
        "!chmod 600 ~/.kaggle/kaggle.json\n",
        "!kaggle datasets download 'smaranjitghose/corn-or-maize-leaf-disease-dataset'\n",
        "!unzip -qq corn-or-maize-leaf-disease-dataset.zip\n",
        "!rm corn-or-maize-leaf-disease-dataset.zip"
      ],
      "metadata": {
        "colab": {
          "base_uri": "https://localhost:8080/",
          "height": 160
        },
        "id": "aY8e4sy9n8v0",
        "outputId": "4df26761-8977-4b22-a4e5-ce100b2c4d5a"
      },
      "execution_count": null,
      "outputs": [
        {
          "output_type": "display_data",
          "data": {
            "text/plain": [
              "<IPython.core.display.HTML object>"
            ],
            "text/html": [
              "\n",
              "     <input type=\"file\" id=\"files-84201ee2-2f34-48b9-a361-ac4d2575c60f\" name=\"files[]\" multiple disabled\n",
              "        style=\"border:none\" />\n",
              "     <output id=\"result-84201ee2-2f34-48b9-a361-ac4d2575c60f\">\n",
              "      Upload widget is only available when the cell has been executed in the\n",
              "      current browser session. Please rerun this cell to enable.\n",
              "      </output>\n",
              "      <script>// Copyright 2017 Google LLC\n",
              "//\n",
              "// Licensed under the Apache License, Version 2.0 (the \"License\");\n",
              "// you may not use this file except in compliance with the License.\n",
              "// You may obtain a copy of the License at\n",
              "//\n",
              "//      http://www.apache.org/licenses/LICENSE-2.0\n",
              "//\n",
              "// Unless required by applicable law or agreed to in writing, software\n",
              "// distributed under the License is distributed on an \"AS IS\" BASIS,\n",
              "// WITHOUT WARRANTIES OR CONDITIONS OF ANY KIND, either express or implied.\n",
              "// See the License for the specific language governing permissions and\n",
              "// limitations under the License.\n",
              "\n",
              "/**\n",
              " * @fileoverview Helpers for google.colab Python module.\n",
              " */\n",
              "(function(scope) {\n",
              "function span(text, styleAttributes = {}) {\n",
              "  const element = document.createElement('span');\n",
              "  element.textContent = text;\n",
              "  for (const key of Object.keys(styleAttributes)) {\n",
              "    element.style[key] = styleAttributes[key];\n",
              "  }\n",
              "  return element;\n",
              "}\n",
              "\n",
              "// Max number of bytes which will be uploaded at a time.\n",
              "const MAX_PAYLOAD_SIZE = 100 * 1024;\n",
              "\n",
              "function _uploadFiles(inputId, outputId) {\n",
              "  const steps = uploadFilesStep(inputId, outputId);\n",
              "  const outputElement = document.getElementById(outputId);\n",
              "  // Cache steps on the outputElement to make it available for the next call\n",
              "  // to uploadFilesContinue from Python.\n",
              "  outputElement.steps = steps;\n",
              "\n",
              "  return _uploadFilesContinue(outputId);\n",
              "}\n",
              "\n",
              "// This is roughly an async generator (not supported in the browser yet),\n",
              "// where there are multiple asynchronous steps and the Python side is going\n",
              "// to poll for completion of each step.\n",
              "// This uses a Promise to block the python side on completion of each step,\n",
              "// then passes the result of the previous step as the input to the next step.\n",
              "function _uploadFilesContinue(outputId) {\n",
              "  const outputElement = document.getElementById(outputId);\n",
              "  const steps = outputElement.steps;\n",
              "\n",
              "  const next = steps.next(outputElement.lastPromiseValue);\n",
              "  return Promise.resolve(next.value.promise).then((value) => {\n",
              "    // Cache the last promise value to make it available to the next\n",
              "    // step of the generator.\n",
              "    outputElement.lastPromiseValue = value;\n",
              "    return next.value.response;\n",
              "  });\n",
              "}\n",
              "\n",
              "/**\n",
              " * Generator function which is called between each async step of the upload\n",
              " * process.\n",
              " * @param {string} inputId Element ID of the input file picker element.\n",
              " * @param {string} outputId Element ID of the output display.\n",
              " * @return {!Iterable<!Object>} Iterable of next steps.\n",
              " */\n",
              "function* uploadFilesStep(inputId, outputId) {\n",
              "  const inputElement = document.getElementById(inputId);\n",
              "  inputElement.disabled = false;\n",
              "\n",
              "  const outputElement = document.getElementById(outputId);\n",
              "  outputElement.innerHTML = '';\n",
              "\n",
              "  const pickedPromise = new Promise((resolve) => {\n",
              "    inputElement.addEventListener('change', (e) => {\n",
              "      resolve(e.target.files);\n",
              "    });\n",
              "  });\n",
              "\n",
              "  const cancel = document.createElement('button');\n",
              "  inputElement.parentElement.appendChild(cancel);\n",
              "  cancel.textContent = 'Cancel upload';\n",
              "  const cancelPromise = new Promise((resolve) => {\n",
              "    cancel.onclick = () => {\n",
              "      resolve(null);\n",
              "    };\n",
              "  });\n",
              "\n",
              "  // Wait for the user to pick the files.\n",
              "  const files = yield {\n",
              "    promise: Promise.race([pickedPromise, cancelPromise]),\n",
              "    response: {\n",
              "      action: 'starting',\n",
              "    }\n",
              "  };\n",
              "\n",
              "  cancel.remove();\n",
              "\n",
              "  // Disable the input element since further picks are not allowed.\n",
              "  inputElement.disabled = true;\n",
              "\n",
              "  if (!files) {\n",
              "    return {\n",
              "      response: {\n",
              "        action: 'complete',\n",
              "      }\n",
              "    };\n",
              "  }\n",
              "\n",
              "  for (const file of files) {\n",
              "    const li = document.createElement('li');\n",
              "    li.append(span(file.name, {fontWeight: 'bold'}));\n",
              "    li.append(span(\n",
              "        `(${file.type || 'n/a'}) - ${file.size} bytes, ` +\n",
              "        `last modified: ${\n",
              "            file.lastModifiedDate ? file.lastModifiedDate.toLocaleDateString() :\n",
              "                                    'n/a'} - `));\n",
              "    const percent = span('0% done');\n",
              "    li.appendChild(percent);\n",
              "\n",
              "    outputElement.appendChild(li);\n",
              "\n",
              "    const fileDataPromise = new Promise((resolve) => {\n",
              "      const reader = new FileReader();\n",
              "      reader.onload = (e) => {\n",
              "        resolve(e.target.result);\n",
              "      };\n",
              "      reader.readAsArrayBuffer(file);\n",
              "    });\n",
              "    // Wait for the data to be ready.\n",
              "    let fileData = yield {\n",
              "      promise: fileDataPromise,\n",
              "      response: {\n",
              "        action: 'continue',\n",
              "      }\n",
              "    };\n",
              "\n",
              "    // Use a chunked sending to avoid message size limits. See b/62115660.\n",
              "    let position = 0;\n",
              "    do {\n",
              "      const length = Math.min(fileData.byteLength - position, MAX_PAYLOAD_SIZE);\n",
              "      const chunk = new Uint8Array(fileData, position, length);\n",
              "      position += length;\n",
              "\n",
              "      const base64 = btoa(String.fromCharCode.apply(null, chunk));\n",
              "      yield {\n",
              "        response: {\n",
              "          action: 'append',\n",
              "          file: file.name,\n",
              "          data: base64,\n",
              "        },\n",
              "      };\n",
              "\n",
              "      let percentDone = fileData.byteLength === 0 ?\n",
              "          100 :\n",
              "          Math.round((position / fileData.byteLength) * 100);\n",
              "      percent.textContent = `${percentDone}% done`;\n",
              "\n",
              "    } while (position < fileData.byteLength);\n",
              "  }\n",
              "\n",
              "  // All done.\n",
              "  yield {\n",
              "    response: {\n",
              "      action: 'complete',\n",
              "    }\n",
              "  };\n",
              "}\n",
              "\n",
              "scope.google = scope.google || {};\n",
              "scope.google.colab = scope.google.colab || {};\n",
              "scope.google.colab._files = {\n",
              "  _uploadFiles,\n",
              "  _uploadFilesContinue,\n",
              "};\n",
              "})(self);\n",
              "</script> "
            ]
          },
          "metadata": {}
        },
        {
          "output_type": "stream",
          "name": "stdout",
          "text": [
            "cp: cannot stat 'kaggle.json': No such file or directory\n",
            "chmod: cannot access '/root/.kaggle/kaggle.json': No such file or directory\n",
            "Dataset URL: https://www.kaggle.com/datasets/smaranjitghose/corn-or-maize-leaf-disease-dataset\n",
            "License(s): copyright-authors\n",
            "Downloading corn-or-maize-leaf-disease-dataset.zip to /content\n",
            " 98% 157M/161M [00:02<00:00, 46.6MB/s]\n",
            "100% 161M/161M [00:02<00:00, 56.6MB/s]\n"
          ]
        }
      ]
    },
    {
      "cell_type": "markdown",
      "source": [
        "## Pré-processamento e carregamento de imagens aleatórias"
      ],
      "metadata": {
        "id": "Ovzrum3U-QAv"
      }
    },
    {
      "cell_type": "code",
      "source": [
        "def preprocess_image(image_path, input_shape):\n",
        "    # Carregar a imagem\n",
        "    img = cv2.imread(image_path)\n",
        "    img = cv2.cvtColor(img, cv2.COLOR_BGR2RGB)\n",
        "\n",
        "    # Redimensionar a imagem\n",
        "    img_resized = cv2.resize(img, (input_shape[1], input_shape[2]))\n",
        "\n",
        "    # Normalizar a imagem\n",
        "    img_normalized = img_resized.astype('float32') / 255.0\n",
        "\n",
        "    # Expandir as dimensões para incluir o batch size\n",
        "    img_expanded = np.expand_dims(img_normalized, axis=0)\n",
        "\n",
        "    return img_expanded\n",
        "\n",
        "import os\n",
        "import random\n",
        "\n",
        "def get_random_images(data_dir, num_images):\n",
        "    # Lista para armazenar os caminhos das imagens\n",
        "    image_paths = []\n",
        "\n",
        "    # Obter a lista de subpastas\n",
        "    subfolders = [f.path for f in os.scandir(data_dir) if f.is_dir()]\n",
        "\n",
        "    # Para cada subpasta\n",
        "    for subfolder in subfolders:\n",
        "        # Obter a lista de imagens na subpasta\n",
        "        images = [f.path for f in os.scandir(subfolder) if f.is_file() and f.name.endswith(('.png', '.jpg', '.jpeg'))]\n",
        "\n",
        "        # Selecionar imagens aleatórias\n",
        "        random_images = random.sample(images, num_images)\n",
        "\n",
        "        # Adicionar os caminhos das imagens à lista\n",
        "        image_paths.extend(random_images)\n",
        "\n",
        "    return image_paths\n",
        "\n",
        "# Usar a função para obter um vetor com imagens aleatórias\n",
        "data_dir = 'data'\n",
        "num_images = 5  # Número de imagens aleatórias para selecionar de cada subpasta\n",
        "random_image_paths = get_random_images(data_dir, num_images)\n",
        "input_shape = input_details[0]['shape']\n",
        "\n",
        "# Pré-processar as imagens\n",
        "preprocessed_images = [preprocess_image(image_path, input_shape) for image_path in random_image_paths]"
      ],
      "metadata": {
        "id": "6gupkjhJ-UAb"
      },
      "execution_count": null,
      "outputs": []
    },
    {
      "cell_type": "markdown",
      "source": [
        "## Inferência"
      ],
      "metadata": {
        "id": "eZ7hEk2L-e5B"
      }
    },
    {
      "cell_type": "code",
      "source": [
        "import cv2\n",
        "\n",
        "# Definir o tamanho desejado\n",
        "desired_size = (224, 224)\n",
        "\n",
        "# Definir as classes\n",
        "classes = ['Blight', 'Common_Rust', 'Gray_Leaf_Spot', 'Healthy']\n",
        "\n",
        "# Criar uma nova figura\n",
        "plt.figure(figsize=(20, 20))\n",
        "\n",
        "# Para cada imagem pré-processada\n",
        "for i, preprocessed_image in enumerate(preprocessed_images):\n",
        "    # Definir os dados de entrada do modelo\n",
        "    interpreter.set_tensor(input_details[0]['index'], preprocessed_image)\n",
        "\n",
        "    # Executar a inferência\n",
        "    interpreter.invoke()\n",
        "\n",
        "    # Obter os resultados da inferência\n",
        "    output_data = interpreter.get_tensor(output_details[0]['index'])\n",
        "\n",
        "    # Interpretar os resultados\n",
        "    predicted_class = np.argmax(output_data[0])\n",
        "    predicted_class_name = classes[predicted_class]\n",
        "    confidence = output_data[0][predicted_class]\n",
        "\n",
        "    # Ler e redimensionar a imagem\n",
        "    image = cv2.imread(random_image_paths[i])\n",
        "    image = cv2.cvtColor(image, cv2.COLOR_BGR2RGB)\n",
        "    image = cv2.resize(image, desired_size)\n",
        "\n",
        "    # Exibir a imagem em um subplot\n",
        "    plt.subplot(5, 4, i+1)\n",
        "    plt.imshow(image)\n",
        "    plt.title(f\"Imagem: {os.path.basename(random_image_paths[i])}\\nClasse prevista: {predicted_class_name}\\nConfiança de: {confidence:.2f}\")\n",
        "    plt.axis('off')\n",
        "\n",
        "# Mostrar todos os subplots\n",
        "plt.tight_layout()\n",
        "plt.show()"
      ],
      "metadata": {
        "id": "a6FUtLoL-hKV",
        "colab": {
          "base_uri": "https://localhost:8080/",
          "height": 1000
        },
        "outputId": "727b65b9-0861-4d4a-f071-01917f403b89"
      },
      "execution_count": null,
      "outputs": []
    },
    {
      "cell_type": "markdown",
      "source": [
        "## Extra - Escala de Cinza"
      ],
      "metadata": {
        "id": "JdSPCM4WsViy"
      }
    },
    {
      "cell_type": "code",
      "source": [
        "# Carregar o modelo TensorFlow Lite\n",
        "interpreter = tf.lite.Interpreter(model_path=\"modeloDoencaMilhoGray.tflite\")\n",
        "interpreter.allocate_tensors()\n",
        "\n",
        "# Obter detalhes da entrada e saída do modelo\n",
        "input_details = interpreter.get_input_details()\n",
        "output_details = interpreter.get_output_details()\n",
        "\n",
        "def preprocess_image_gray(image_path, input_shape):\n",
        "    # Carregar a imagem em escala de cinza\n",
        "    img = cv2.imread(image_path, cv2.IMREAD_GRAYSCALE)\n",
        "\n",
        "    # Redimensionar a imagem\n",
        "    img_resized = cv2.resize(img, (input_shape[1], input_shape[2]))\n",
        "\n",
        "    # Normalizar a imagem\n",
        "    img_normalized = img_resized.astype('float32') / 255.0\n",
        "\n",
        "    # Expandir as dimensões para incluir o batch size e o canal de cor\n",
        "    img_expanded = np.expand_dims(img_normalized, axis=0)\n",
        "    img_expanded = np.expand_dims(img_expanded, axis=-1)\n",
        "\n",
        "    return img_expanded\n",
        "\n",
        "# Pré-processar as imagens\n",
        "preprocessed_images = [preprocess_image_gray(image_path, input_shape) for image_path in random_image_paths]\n",
        "\n",
        "import cv2\n",
        "\n",
        "# Definir o tamanho desejado\n",
        "desired_size = (224, 224)\n",
        "\n",
        "# Definir as classes\n",
        "classes = ['Blight', 'Common_Rust', 'Gray_Leaf_Spot', 'Healthy']\n",
        "\n",
        "# Criar uma nova figura\n",
        "plt.figure(figsize=(20, 20))\n",
        "\n",
        "# Para cada imagem pré-processada\n",
        "for i, preprocessed_image in enumerate(preprocessed_images):\n",
        "    # Definir os dados de entrada do modelo\n",
        "    interpreter.set_tensor(input_details[0]['index'], preprocessed_image)\n",
        "\n",
        "    # Executar a inferência\n",
        "    interpreter.invoke()\n",
        "\n",
        "    # Obter os resultados da inferência\n",
        "    output_data = interpreter.get_tensor(output_details[0]['index'])\n",
        "\n",
        "    # Interpretar os resultados\n",
        "    predicted_class = np.argmax(output_data[0])\n",
        "    predicted_class_name = classes[predicted_class]\n",
        "    confidence = output_data[0][predicted_class]\n",
        "\n",
        "    # Ler e redimensionar a imagem em escala de cinza\n",
        "    image = cv2.imread(random_image_paths[i], cv2.IMREAD_GRAYSCALE)\n",
        "    image = cv2.resize(image, desired_size)\n",
        "\n",
        "    # Exibir a imagem em um subplot\n",
        "    plt.subplot(5, 4, i+1)\n",
        "    plt.imshow(image, cmap='gray')\n",
        "    plt.title(f\"Imagem: {os.path.basename(random_image_paths[i])}\\nClasse prevista: {predicted_class_name}\\nConfiança de: {confidence:.2f}\")\n",
        "    plt.axis('off')\n",
        "\n",
        "# Mostrar todos os subplots\n",
        "plt.tight_layout()\n",
        "plt.show()"
      ],
      "metadata": {
        "colab": {
          "base_uri": "https://localhost:8080/",
          "height": 1000
        },
        "id": "1wctfOtlsZ3N",
        "outputId": "cc646bdc-91d3-41ba-b18a-105eed3bac99"
      },
      "execution_count": null,
      "outputs": []
    }
  ]
}